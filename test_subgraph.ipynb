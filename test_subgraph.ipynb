{
 "cells": [
  {
   "cell_type": "code",
   "execution_count": 176,
   "metadata": {},
   "outputs": [],
   "source": [
    "import networkx as nx\n",
    "import csv\n",
    "from collections import deque\n"
   ]
  },
  {
   "cell_type": "code",
   "execution_count": 177,
   "metadata": {},
   "outputs": [],
   "source": [
    "ImportanceNodes = {\n",
    "    'Domain': 3,\n",
    "    'IP': 3,\n",
    "    'Cert': 3,\n",
    "    'Whois_Name': 2,\n",
    "    'Whois_Phone': 2,\n",
    "    'Whois_Email': 2,\n",
    "    'IP_C': 1,\n",
    "    'ASN': 1,\n",
    "}\n",
    "ImportanceLinks = {\n",
    "    'r_cert': 4,\n",
    "    'r_subdomain': 4,\n",
    "    'r_request_jump': 4,\n",
    "    'r_dns_a': 4,\n",
    "    'r_whois_name': 3,\n",
    "    'r_whois_email': 3,\n",
    "    'r_whois_phone': 3,\n",
    "    'r_cert_chain': 2,\n",
    "    'r_cname': 2,\n",
    "    'r_asn': 1,\n",
    "    'r_cidr': 1,\n",
    "}\n",
    "\n",
    "\n",
    "def read_in_all_graph():  # 用函数包裹一下，避免可能的变量污染\n",
    "    graph_all = nx.Graph()  # undirected graph\n",
    "    # graph_all = nx.DiGraph()  # directed graph\n",
    "    with open('data/Node.csv', 'r', encoding='utf-8') as nodes:\n",
    "        nodes.readline()  # get rid of first line\n",
    "        reader = csv.reader(nodes)\n",
    "        for data in reader:\n",
    "            graph_all.add_node(\n",
    "                data[0],\n",
    "                name=data[1],\n",
    "                type=data[2],\n",
    "                industry=data[3],\n",
    "                classified=False,  # 是否已经分到一个group里\n",
    "                is_core_node=False,  # 是否是核心节点\n",
    "                importance=ImportanceNodes[data[2]],  # 重要性，1-3\n",
    "            )\n",
    "\n",
    "    with open('data/Link.csv', 'r', encoding='utf-8') as links:\n",
    "        links.readline()  # get rid of first line\n",
    "        reader = csv.reader(links)\n",
    "        for data in reader:\n",
    "            graph_all.add_edge(\n",
    "                data[1],  # source\n",
    "                data[2],  # target\n",
    "                relation=data[0],\n",
    "                importance=ImportanceLinks[data[0]],\n",
    "            )\n",
    "\n",
    "    return graph_all\n"
   ]
  },
  {
   "cell_type": "code",
   "execution_count": 178,
   "metadata": {},
   "outputs": [
    {
     "name": "stdout",
     "output_type": "stream",
     "text": [
      "graph_all loading complete!\n"
     ]
    }
   ],
   "source": [
    "graph_all = read_in_all_graph()\n",
    "print(\"graph_all loading complete!\")\n"
   ]
  },
  {
   "cell_type": "markdown",
   "metadata": {},
   "source": [
    "### First group"
   ]
  },
  {
   "cell_type": "code",
   "execution_count": 179,
   "metadata": {},
   "outputs": [],
   "source": [
    "init_id = [\n",
    "    'Domain_c58c149eec59bb14b0c102a0f303d4c20366926b5c3206555d2937474124beb9',\n",
    "    'Domain_f3554b666038baffa5814c319d3053ee2c2eb30d31d0ef509a1a463386b69845',\n",
    "]\n",
    "\n",
    "subgraph_id = set()\n",
    "mining_depth = 2\n",
    "\n",
    "min_num_edges = 7  # judge core node\n",
    "max_num_neighbors = 30  # visualize network\n"
   ]
  },
  {
   "cell_type": "code",
   "execution_count": 180,
   "metadata": {},
   "outputs": [
    {
     "data": {
      "text/plain": [
       "181"
      ]
     },
     "execution_count": 180,
     "metadata": {},
     "output_type": "execute_result"
    }
   ],
   "source": [
    "for id in init_id:\n",
    "    subgraph_id.add(id)\n",
    "\n",
    "    # BFS search\n",
    "    stack = deque([id])\n",
    "    level = 0  # level < mining_depth\n",
    "    while stack:\n",
    "        for _ in range(len(stack)):\n",
    "            node_id = stack.popleft()\n",
    "\n",
    "            # get all neighbors\n",
    "            neighbors = list(graph_all.neighbors(node_id))  # 迭代器转为list，重复遍历\n",
    "            # judge if is core node\n",
    "            if graph_all.nodes[node_id]['importance'] == 3:\n",
    "                if len(neighbors) >= min_num_edges:\n",
    "                    weak_edges = 0  # 50%以上的邻边关联强度较弱的网络资产不被认为是核心网络资产\n",
    "                    num_ip = 0  # 同时关联2个以上IP地址的Domain网络资产不被认为是核心网络资产\n",
    "                    for neighbor in neighbors:\n",
    "                        if graph_all.nodes[neighbor]['type'] == 'IP':\n",
    "                            num_ip += 1\n",
    "                        if graph_all.edges[node_id, neighbor]['importance'] == 1:\n",
    "                            weak_edges += 1\n",
    "\n",
    "                    if num_ip < 2 and weak_edges / len(neighbors) < 0.5:  # 核心资产\n",
    "                        graph_all.nodes[node_id]['is_core_node'] = True\n",
    "\n",
    "            # visualize the subgraph\n",
    "            num_neighbors = 0  # if num > max_num_neighbors, stop\n",
    "            for neighbor in neighbors:\n",
    "                if neighbor not in subgraph_id:\n",
    "                    subgraph_id.add(neighbor)\n",
    "                    graph_all.nodes[neighbor]['classified'] = True  # 分到一个group里\n",
    "                    stack.append(neighbor)\n",
    "                    num_neighbors += 1\n",
    "\n",
    "                if num_neighbors > max_num_neighbors:\n",
    "                    break\n",
    "\n",
    "        # level order\n",
    "        level += 1\n",
    "        if level >= mining_depth:\n",
    "            break\n",
    "\n",
    "len(subgraph_id)\n"
   ]
  },
  {
   "cell_type": "code",
   "execution_count": 181,
   "metadata": {},
   "outputs": [
    {
     "name": "stdout",
     "output_type": "stream",
     "text": [
      "Domain_807a8a1a5282607c2063a5b0365268b25f0f62d61741a3e25244840595f10dc3\n",
      "Cert_fe794a69eacd63b21245bf4eda826222fc6c5862bebf77aa05459cb308cfd063\n",
      "Domain_c58c149eec59bb14b0c102a0f303d4c20366926b5c3206555d2937474124beb9\n",
      "IP_94fb4d47d3920b6a5b74a8ce9e304377460fdffdf6582eca97eda2037bbe0b47\n",
      "Domain_61befc7014010dffed9239b8a133396e1a88fa822703b677b123268eb16be3f7\n"
     ]
    }
   ],
   "source": [
    "for id in subgraph_id:\n",
    "    if graph_all.nodes[id]['is_core_node']:\n",
    "        print(id)\n",
    "        # graph_all.nodes[id]['is_core_node'] = False\n"
   ]
  },
  {
   "cell_type": "markdown",
   "metadata": {},
   "source": [
    "### Second group"
   ]
  },
  {
   "cell_type": "code",
   "execution_count": 182,
   "metadata": {},
   "outputs": [],
   "source": [
    "init_id = [\n",
    "    'IP_400c19e584976ff2a35950659d4d148a3d146f1b71692468132b849b0eb8702c',\n",
    "    'Domain_b10f98a9b53806ccd3a5ee45676c7c09366545c5b12aa96955cde3953e7ad058',\n",
    "]\n",
    "\n",
    "subgraph_id = set()\n",
    "mining_depth = 3\n",
    "\n",
    "min_num_edges = 10  # judge core node\n",
    "max_num_neighbors = 40  # visualize network\n"
   ]
  },
  {
   "cell_type": "code",
   "execution_count": 183,
   "metadata": {},
   "outputs": [
    {
     "data": {
      "text/plain": [
       "735"
      ]
     },
     "execution_count": 183,
     "metadata": {},
     "output_type": "execute_result"
    }
   ],
   "source": [
    "for id in init_id:\n",
    "    subgraph_id.add(id)\n",
    "\n",
    "    # BFS search\n",
    "    stack = deque([id])\n",
    "    level = 0  # level < mining_depth\n",
    "    while stack:\n",
    "        for _ in range(len(stack)):\n",
    "            node_id = stack.popleft()\n",
    "\n",
    "            # get all neighbors\n",
    "            neighbors = list(graph_all.neighbors(node_id))  # 迭代器转为list，重复遍历\n",
    "            # judge if is core node\n",
    "            if graph_all.nodes[node_id]['importance'] == 3:\n",
    "                if len(neighbors) >= min_num_edges:\n",
    "                    weak_edges = 0  # 50%以上的邻边关联强度较弱的网络资产不被认为是核心网络资产\n",
    "                    num_ip = 0  # 同时关联2个以上IP地址的Domain网络资产不被认为是核心网络资产\n",
    "                    for neighbor in neighbors:\n",
    "                        if graph_all.nodes[neighbor]['type'] == 'IP':\n",
    "                            num_ip += 1\n",
    "                        if graph_all.edges[node_id, neighbor]['importance'] == 1:\n",
    "                            weak_edges += 1\n",
    "\n",
    "                    if num_ip < 2 and weak_edges / len(neighbors) < 0.5:  # 核心资产\n",
    "                        graph_all.nodes[node_id]['is_core_node'] = True\n",
    "\n",
    "            # visualize the subgraph\n",
    "            num_neighbors = 0  # if num > max_num_neighbors, stop\n",
    "            for neighbor in neighbors:\n",
    "                if neighbor not in subgraph_id:\n",
    "                    subgraph_id.add(neighbor)\n",
    "                    graph_all.nodes[neighbor]['classified'] = True  # 分到一个group里\n",
    "                    stack.append(neighbor)\n",
    "                    num_neighbors += 1\n",
    "\n",
    "                if num_neighbors > max_num_neighbors:\n",
    "                    break\n",
    "\n",
    "        # level order\n",
    "        level += 1\n",
    "        if level >= mining_depth:\n",
    "            break\n",
    "\n",
    "len(subgraph_id)\n"
   ]
  },
  {
   "cell_type": "code",
   "execution_count": 184,
   "metadata": {},
   "outputs": [
    {
     "name": "stdout",
     "output_type": "stream",
     "text": [
      "IP_8c2235f7cb908ecc15ac1f0e612710ad8023f043bd5849b43368775c51473c1a\n",
      "IP_2493d10250d8cfb277bb6217bd48e2863d4a1bf81fb6cc9e755f63a88a349f32\n",
      "Cert_c992a7d7f01fae6098d8f1ba358002074db1b977cceafc07c04b40e657ec0425\n",
      "Domain_e01c17f42e1a41199b7811c6effb0caed00040c008ac6e0b644501b254da767a\n",
      "IP_f9b588fa3410ab89fa0e50b011c9ac8ddfa4a3125ea3df13fa4598faa5e15f8a\n",
      "IP_dcf3630d109e25e31f4ec590e83509d90a95874ed53e32914e0eb2f4b56e6639\n",
      "IP_543d6eb907353987e07d47452da5fdad313cc8adb8cf03943274664607f3c828\n",
      "IP_36b2ba5b0800d154ef3add5672b7561af9535edd92d2c3323c64880498b45a05\n",
      "IP_13d40ae506b3217b4f51db8809664bc5b01eae4ea696ed85821ebe9b8a9d1117\n",
      "Domain_8659e9de39a88dc208eae9c4eab0791afd0406142fd7220cac3e7793dc802a43\n",
      "IP_80f8de0a43fddb5a51f3d395fc56dd1b50f78cc1d853449918d200fbe9baaea0\n",
      "IP_87221ece371f1ef485addd26120c644808f4fb84f1088124d4a40bcc36468afb\n",
      "IP_f36d5f4bcff7228569d004693e08d93cf9a7214bbf163b42c98f62de5c62febe\n",
      "IP_c75ff0eef6197b346ed7b7a12b20cf8f526ee56eda23c19281186349f3004128\n",
      "IP_d8445ec5260aaece527bc20643af2ef4cb5c143ce0630ab4fbe7ad74fbc5546a\n",
      "Cert_1b22e6e2c9f9d7afd041a1a0ef2178dbaaf3248c4261496a382ff46520d55e71\n",
      "Cert_a77b63d27d07fd9cc522afb93664f99d9f56f9edadf84e44ef4537748dc19141\n",
      "Cert_d570aebdd3b0f0b4194315d8df020dc805f114401fe3c6999967f60de17b6176\n",
      "IP_96dbbb9815094fd313496f83c4edcca3213e4821a15833c49b3253f77bbeb2e0\n",
      "IP_041745e5311c022a7c19084344967b8e5f86a16c3d629f059379f092b6e413e8\n",
      "IP_6a40dc56586f8898df1ac070dc6e630c047dbe00def1fcfe737c026a7f6b69fc\n",
      "IP_400c19e584976ff2a35950659d4d148a3d146f1b71692468132b849b0eb8702c\n",
      "IP_66ce60f4080da9a413b456e5dabbb28b8c06b59a2836091d8b19f0dd0c935d8d\n",
      "IP_442aa0f005d86e400aaa0d75bb6d4675342579b441f2e79eb8443539d0f81cd6\n",
      "IP_4cedd9a11310f3c33ef8cc355d425084fa3a2738de0ac395d57324606c2310dd\n"
     ]
    }
   ],
   "source": [
    "for id in subgraph_id:\n",
    "    if graph_all.nodes[id]['is_core_node']:\n",
    "        print(id)\n",
    "        # graph_all.nodes[id]['is_core_node'] = False\n"
   ]
  },
  {
   "cell_type": "markdown",
   "metadata": {},
   "source": [
    "### Third group"
   ]
  },
  {
   "cell_type": "code",
   "execution_count": 185,
   "metadata": {},
   "outputs": [],
   "source": [
    "init_id = [\n",
    "    'IP_7e730b193c2496fc908086e8c44fc2dbbf7766e599fabde86a4bcb6afdaad66e',\n",
    "    'Cert_6724539e5c0851f37dcf91b7ac85cb35fcd9f8ba4df0107332c308aa53d63bdb',\n",
    "]\n",
    "\n",
    "subgraph_id = set()\n",
    "mining_depth = 3\n"
   ]
  },
  {
   "cell_type": "code",
   "execution_count": 186,
   "metadata": {},
   "outputs": [],
   "source": [
    "\n",
    "min_num_edges = 10  # judge core node\n",
    "max_num_neighbors = 30  # visualize network\n"
   ]
  },
  {
   "cell_type": "code",
   "execution_count": 187,
   "metadata": {},
   "outputs": [
    {
     "data": {
      "text/plain": [
       "2617"
      ]
     },
     "execution_count": 187,
     "metadata": {},
     "output_type": "execute_result"
    }
   ],
   "source": [
    "for id in init_id:\n",
    "    subgraph_id.add(id)\n",
    "\n",
    "    # BFS search\n",
    "    stack = deque([id])\n",
    "    level = 0  # level < mining_depth\n",
    "    while stack:\n",
    "        for _ in range(len(stack)):\n",
    "            node_id = stack.popleft()\n",
    "\n",
    "            # get all neighbors\n",
    "            neighbors = list(graph_all.neighbors(node_id))  # 迭代器转为list，重复遍历\n",
    "            # judge if is core node\n",
    "            if graph_all.nodes[node_id]['importance'] == 3:\n",
    "                if len(neighbors) >= min_num_edges:\n",
    "                    weak_edges = 0  # 50%以上的邻边关联强度较弱的网络资产不被认为是核心网络资产\n",
    "                    num_ip = 0  # 同时关联2个以上IP地址的Domain网络资产不被认为是核心网络资产\n",
    "                    for neighbor in neighbors:\n",
    "                        if graph_all.nodes[neighbor]['type'] == 'IP':\n",
    "                            num_ip += 1\n",
    "                        if graph_all.edges[node_id, neighbor]['importance'] == 1:\n",
    "                            weak_edges += 1\n",
    "\n",
    "                    if num_ip < 2 and weak_edges / len(neighbors) < 0.5:  # 核心资产\n",
    "                        graph_all.nodes[node_id]['is_core_node'] = True\n",
    "\n",
    "            # visualize the subgraph\n",
    "            num_neighbors = 0  # if num > max_num_neighbors, stop\n",
    "            for neighbor in neighbors:\n",
    "                if neighbor not in subgraph_id:\n",
    "                    subgraph_id.add(neighbor)\n",
    "                    graph_all.nodes[neighbor]['classified'] = True  # 分到一个group里\n",
    "                    stack.append(neighbor)\n",
    "                    num_neighbors += 1\n",
    "\n",
    "                if num_neighbors > max_num_neighbors:\n",
    "                    break\n",
    "\n",
    "        # level order\n",
    "        level += 1\n",
    "        if level >= mining_depth:\n",
    "            break\n",
    "\n",
    "len(subgraph_id)\n"
   ]
  },
  {
   "cell_type": "code",
   "execution_count": 188,
   "metadata": {},
   "outputs": [
    {
     "name": "stdout",
     "output_type": "stream",
     "text": [
      "IP_e3ad5a4d92371d8a7131a64cbc99eac605e747eeb1f9768d3406dbb8ae05dccb\n",
      "IP_6fb775ff1d42248cec2de73b3c0469e81bd1c11751f9801b7b69a0bcc12deec8\n",
      "Domain_bef7711a775534636a7cdae48a0f9d7604c5dadcf31f32f6117d6db4b00555ac\n",
      "IP_ac1ccc9721107587b330cae0ef1446269a02ce708189dccca916e4d6a01bb4d1\n",
      "IP_93a303ba531ddbe61085d9cfb4d404e874c0634939a1dd5a8435646c8b82cf1f\n",
      "IP_7b9954624b78d63b870d3d03daea2c89620ce866901c3affc07554fde1aa5f7f\n",
      "IP_e194cdba3af1ca142453788c2fa3a6ceb2ab920bbcdf670e4399d97b798d0545\n",
      "IP_fd274aab417beb2bbd649cce02bd98f38483b40fbc781747cdeac4a83bb0a58c\n",
      "IP_4ea0cbe0ae9dc770e66a956fbe088134aa68b55b43ad9b1f60a7c66ae661b763\n",
      "IP_ba509acc37b1a4ac6687b2f79ea6188b8dfcc09c43e3d03c0209bf7a35d74569\n",
      "IP_c8c1b9572d1097792254051a91fc2b667411b1dbefd721a603c6fa99bbe1d593\n",
      "IP_48cc8fb4cbae8e075772452280942726e4005062f2006eba0f8a5e97307a2e44\n",
      "IP_207185a77262f6b5c76ac215b948550372574b92a3effcfe05ed5ef3c214eace\n",
      "IP_ea400d44363c5f7bf0eeea84877353fbaf386305c0336a0367ffd9069b2982ad\n",
      "IP_a2ebd3c022a5320f6ee011c272706c6fc4e702898004040e8777ed6994a65981\n",
      "IP_24904766afdaaac9f83bbc2a7fb0f6ab484c9d1cb73908237bda038076bfe916\n",
      "IP_f3f7b39c0a63773b292a0291a9cc25e3790c5a432c0e6513322444347d02f4f3\n",
      "IP_9469ab6d965bfb3e10545e038abc9557cf28ebd0a55f7c6e22ac040f04c74e14\n",
      "IP_2600c28ea1202a01894cd66d1547105a5c93653ba0e63e8312a7b35d53a98b21\n",
      "IP_b38dfdd8637bf25278f0b9a339ab922da1a555f9bc62851c265ed2030cb9a242\n",
      "IP_f3286234000a9c6f61dce0cb75fb8edadd56dab6f86accf1d6742b4c3e72da72\n",
      "IP_b4be5f2d1105602cf087b1c90bf5cfcac294e9f59f43c6662ee4e578db865352\n",
      "IP_811e6921e4d1ae943639d6b7106a7ae8c9621c4802ae6e92cc3f9e33e1f6c15d\n",
      "IP_191b2d1f38b93a6668caf2cbeeccb478040b3a8225d7e767566498c0dcfd6d3b\n",
      "IP_781d31131cbed86d08290734aac8a394037a00277b0588f16510bd2bae691ed2\n",
      "IP_3fa35c026b1deb86be5a4968f285a32c1c3707e0deae161f9c988015503b98bd\n",
      "IP_cdcb3771d72a01e7845b212e74d1ca1b0e8384b79bad1da2f73c93959da5b3d2\n",
      "IP_e2be14ea0443e75a8c7b608fffbc377b9aa0118bec53f597964bad9e97350108\n",
      "IP_d0fcc120e6549f0ea3f32a8cacef5500ec36130a5740efbe303329ab3f2e4e1e\n",
      "IP_eb31538c3780105d5eadffd6e2e45d2a3254954c08aef1f01f4a144d09f4f7c0\n",
      "IP_d79d4ff6e59a3fe677bed518e7a751467fc8e18f7fe9c7cb10bddcb19c109154\n",
      "IP_bf5e10ec6343b3ce6d742ea99f1356a81af2176f6eebe3ebaf852e7760144640\n",
      "IP_7165dd0b4a443b64410cc6513d0e50efe3d5a9c1dd73f41b73b59e9a409dfcf3\n",
      "IP_ce80b1b665f13c3d38ca7eb79fc695dfcd8dc8c592f0b41c3d3d0624e25b18b6\n",
      "IP_92e4a002125f6929f95e0e94a148473c3a20d5e8d95529a9500a456baada2c4a\n",
      "IP_8b59e4330973b564101ac61fb4aecca4926a58b7e33ac0183b3f57123e269c96\n",
      "IP_aa2457df14baa80b6aae2e1c2a1793ab629ab9c490abeed811964ce5804dd0ab\n",
      "IP_1ee4160664e36cbe678cbf3161cd0b1aae999c65db95a37cd04fe36376ab93eb\n",
      "IP_9c7f3a5ef80a17c1b9c24e5c4c81f949ef3d893ae9db7ac553ab193ce5cc88a5\n",
      "IP_9d15d67d84f9c11da315d2de4f95c301fb8b2874ff4b63b5e6cd0c335dc89c4e\n",
      "IP_ce12f81dfa8c544f3ff195e457d4b4fdd4376c1a431fac3d94134470203c6c2c\n",
      "IP_04023c1aeceae5ac951ca1130a324cf0475181ac060f5f0203f994aee93cd869\n",
      "IP_6a7072f17c61d8bdc5946890375a3b4c7168a7b34cb2f5559f8b95d269e881b1\n",
      "IP_ff4cc9d69d7a7f05c5dd17b6ebe8645113f165bd40e2c5b7a87a4b38329b93b3\n",
      "IP_5bf45e726aa028411949919a8f4269e0bb4c20f5799244e3f40814eca8c5ab98\n",
      "IP_057a478eceb14c597622878ccb9824f8548ca2b1d82766ab92f3ac387c8fc650\n",
      "IP_f20ee5251b1db59eaced2666e489877dc1a16dc6115787dd2908fe78c201751c\n",
      "IP_8383a7c6a51fc92972b1945ed00cb3065380abe3677aba6ed1cde17c394e4a6d\n",
      "IP_be6f0363f06e36e64c83570d449198813e221309d760d578fd3c2ca85320e92e\n",
      "IP_7e730b193c2496fc908086e8c44fc2dbbf7766e599fabde86a4bcb6afdaad66e\n",
      "IP_3412e9509da22092aafd094b425d73795d333ea97c824668deaab3a059df3640\n",
      "IP_aaefef383f03070f766b7f829249e1d2a9648098d72183bbf5567ab9bfdf7eb5\n",
      "IP_099e42792f5db82c21d14751d1d194b9a855fb60349da3c0809e0103c1fa2b47\n",
      "IP_4714c2a981c80adb2d80c504cad2e9a0b4cdc35d1798f759c07b9ea3aa612382\n",
      "IP_20cb513ab710daecf65fd60e07c536697f519553f3bf711fdbbae2a11ec57c7b\n",
      "IP_238cb4df969d9eb57154fd34d98af1d6d797045da9183b863ce07f2176fe5c1f\n",
      "IP_1eab0a95ab7515e9031f043ad2734aa9ab69da296656db21ea41012f06bcbc04\n",
      "IP_0a633c967549946b9b07df0e67d5adeb66fbb179f6db2f1c46f404cf6571a195\n",
      "IP_99d06129abee31ec7080951e0cafcbdd6f8c654ea1ce468445b3cb5f82a16d2f\n",
      "Domain_32c4f41a64871e9d60569380b3e6c7a07026a9504c34071d3d80adf28e47e4b1\n",
      "IP_2ae1f89e74c2bd2a9e5b5f3f5055932716116da9ea12c07647ac4a376ec97c9c\n",
      "IP_8c412ab36e7a6d560a51eeee4d5c7129b80d50793de8e46278482fad5f99f67c\n",
      "IP_841375839ed8212db85541915a3fd258cdc6c4e15f7a3aa3d38314f43b3abc2d\n",
      "IP_8a308da2e7180ef008d349f4bf7026ed15687828042aa37e41c338a3aeb05d36\n",
      "IP_8ab8d26901e63cc39d8a24f6596379c7d53897a92fb420f1062f6a7fef74ffdb\n",
      "IP_c6eff0c2bf2309e08475f9a236d6f8a8f3c49bb19fc8b7215fed332cbfd49767\n",
      "IP_c1e788099186818d57aebd8111b6214d58033df998e5e1e60939e07f8e62e380\n",
      "IP_7d4accce38d3c42bf738710e6b7f03b667f00b46a500a3153321d0f6b20d9c76\n",
      "IP_8055cffdcb91fbbe394a0d7ac488a2e0adfdfbe78199491bdb149af27708afb7\n",
      "IP_e574a6903582bc34a064ba4f006e1f59a61435d144960d6dd7985a095320eff9\n",
      "IP_6d2cb9d60f491d5384166b2c4c8837267663a385e2433ff49588f42ef44a1a42\n",
      "IP_9fd1d555ef3eeb20ea2f6bb898a7f32764814fb3973c9ea291df8d54d6465295\n",
      "IP_90a4481bcfa1e55e5a016b8470ecb713ebadba193e0f2d6b2e9c4893e1eb754c\n",
      "IP_f9a1c8a3c85225da3f4ea8947ac424fb8b7e2648b30e20d09b61ebfcf10e02da\n",
      "IP_f48f05535f3ee00572a97f62ab30bbfbeb69f2d2699915365ff1801ac64cbf6c\n",
      "IP_246b1ae6343d018be163015471ed4412f6709b1099a6078f710b566a3cfc1720\n",
      "IP_c4e5b75e65cd9015613385dade65ca1cfdacc91aeba6be18dd16436bc89fc43e\n",
      "IP_5799704120b33f4873a85002c3e82749d9a1311361c630519b69743658e14478\n",
      "Cert_6724539e5c0851f37dcf91b7ac85cb35fcd9f8ba4df0107332c308aa53d63bdb\n",
      "IP_43fb28c11ddee1a568d667fb8ebcbbf00922be6d05477d22bb87b6ba8ef1d2b6\n",
      "IP_7cb46c2a9ddcfdfabad5768916fdb49c54230a9eb41dc96e20f682313d8eeffc\n",
      "IP_e02d9773ca0264c71d949a29bcfddd157df22b4fda4f9bde02bbb591481d13c3\n",
      "IP_9e443b8ba2f05c0412f10439fe4c4248f6fd13d1a9d3fdaa0a680e6dec05f9e5\n",
      "IP_360d0f5dba08d72ea4a745954ab94178b8b628c9845907c5d7e48466f8378fc4\n",
      "IP_8ceaaa6ad3a62fc795ac9e229c94e87d68577b06fc1adb50b782cf6122b02b61\n",
      "IP_79311acebf707260d75e3ed816cf9da4ce4e45930677ac79358f41eb4a298f75\n",
      "IP_aed2b57bcd149e0306863a8884eb98819abc1cedae5f7de2745fe5c9be5c65a6\n"
     ]
    }
   ],
   "source": [
    "for id in subgraph_id:\n",
    "    if graph_all.nodes[id]['is_core_node']:\n",
    "        print(id)\n",
    "        # graph_all.nodes[id]['is_core_node'] = False\n"
   ]
  }
 ],
 "metadata": {
  "interpreter": {
   "hash": "ad2bdc8ecc057115af97d19610ffacc2b4e99fae6737bb82f5d7fb13d2f2c186"
  },
  "kernelspec": {
   "display_name": "Python 3.9.7 ('base')",
   "language": "python",
   "name": "python3"
  },
  "language_info": {
   "codemirror_mode": {
    "name": "ipython",
    "version": 3
   },
   "file_extension": ".py",
   "mimetype": "text/x-python",
   "name": "python",
   "nbconvert_exporter": "python",
   "pygments_lexer": "ipython3",
   "version": "3.9.7"
  },
  "orig_nbformat": 4
 },
 "nbformat": 4,
 "nbformat_minor": 2
}
